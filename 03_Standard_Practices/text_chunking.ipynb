{
 "cells": [
  {
   "cell_type": "markdown",
   "metadata": {},
   "source": [
    "# Text Chunking Examples"
   ]
  },
  {
   "cell_type": "markdown",
   "metadata": {},
   "source": [
    "## Simple Text Chunking"
   ]
  },
  {
   "cell_type": "markdown",
   "metadata": {},
   "source": [
    "The sample `blog_post.txt` file is taken from [What is Data Science? Definition, Examples, Tools & More](https://www.datacamp.com/blog/what-is-data-science-the-definitive-guide) article."
   ]
  },
  {
   "cell_type": "code",
   "execution_count": null,
   "metadata": {},
   "outputs": [],
   "source": [
    "def chunk_text(path):\n",
    "    with open(path, \"r\") as f:\n",
    "        text = f.read()\n",
    "\n",
    "    chunks = [text[i : i + 200] for i in range(0, len(text), 200)]\n",
    "\n",
    "    for chunk in chunks:\n",
    "        print(\"-\" * 20)\n",
    "        print(chunk)\n",
    "\n",
    "# call the function\n",
    "chunk_text(\"blog_post.txt\")"
   ]
  },
  {
   "cell_type": "markdown",
   "metadata": {},
   "source": [
    "## Sliding Window Chunking"
   ]
  },
  {
   "cell_type": "code",
   "execution_count": null,
   "metadata": {},
   "outputs": [],
   "source": [
    "def sliding_window(text, window_size, step_size):\n",
    "    if window_size > len(text) or step_size < 1:\n",
    "        return []\n",
    "    return [text[i:i+window_size] for i\n",
    "    in range(0, len(text) - window_size + 1, step_size)]\n",
    "\n",
    "text = \"This is the sample text\"\n",
    "window_size = 4\n",
    "step_size = 2\n",
    "\n",
    "chunks = sliding_window(text, window_size, step_size)\n",
    "\n",
    "for idx, chunk in enumerate(chunks):\n",
    "    print(f\"Chunk {idx + 1}: {chunk}\")"
   ]
  },
  {
   "cell_type": "markdown",
   "metadata": {},
   "source": [
    "## Text Tokenization with Tiktoken"
   ]
  },
  {
   "cell_type": "code",
   "execution_count": null,
   "metadata": {},
   "outputs": [],
   "source": [
    "import tiktoken\n",
    "\n",
    "# choose encoding method\n",
    "encoding = tiktoken.get_encoding(\"cl100k_base\")\n",
    "\n",
    "# convert text into tokens\n",
    "print(encoding.encode(\"This is the sample text\"))\n",
    "\n",
    "# decode tokens into text\n",
    "print(encoding.decode([576, 374, 264, 6205, 1984]))"
   ]
  }
 ],
 "metadata": {
  "kernelspec": {
   "display_name": "Python 3",
   "language": "python",
   "name": "python3"
  },
  "language_info": {
   "codemirror_mode": {
    "name": "ipython",
    "version": 3
   },
   "file_extension": ".py",
   "mimetype": "text/x-python",
   "name": "python",
   "nbconvert_exporter": "python",
   "pygments_lexer": "ipython3",
   "version": "3.12.4"
  }
 },
 "nbformat": 4,
 "nbformat_minor": 2
}
