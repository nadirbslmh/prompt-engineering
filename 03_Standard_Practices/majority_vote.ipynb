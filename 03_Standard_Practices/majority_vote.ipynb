{
 "cells": [
  {
   "cell_type": "markdown",
   "metadata": {},
   "source": [
    "# Majority Vote"
   ]
  },
  {
   "cell_type": "code",
   "execution_count": null,
   "metadata": {},
   "outputs": [],
   "source": [
    "from openai import OpenAI\n",
    "import os\n",
    "from dotenv import load_dotenv\n",
    "\n",
    "load_dotenv()\n",
    "\n",
    "client = OpenAI(api_key=os.environ.get(\"OPENAI_API_KEY\"))\n",
    "\n",
    "base_template = \"\"\"\n",
    "Using the following examples as a guide:\n",
    "positive: 'The online course provides comprehensive topics for becoming data engineer'\n",
    "negative: 'The online course lacks of additional resources for self-learning'\n",
    "neutral: 'The online course provides comprehensive content but the learning video needs to be improved'\n",
    "\n",
    "Only return either a single word of:\n",
    "- positive\n",
    "- negative\n",
    "- neutral\n",
    "\n",
    "Please classify the sentiment of the following text as positive, negative, or neutral: {content}\n",
    "\"\"\"\n",
    "\n",
    "responses = []\n",
    "\n",
    "for i in range(0, 5):\n",
    "    response = client.chat.completions.create(\n",
    "        model=\"gpt-3.5-turbo\",\n",
    "        messages=[{\n",
    "            \"role\": \"system\",\n",
    "            \"content\": base_template.format(content='The online course provides great explanation but lacks the additional resources for self-learning.'),\n",
    "            }\n",
    "        ],)\n",
    "    responses.append(response.choices[0].message.content.strip())\n",
    "\n",
    "def most_frequent_classification(responses):\n",
    "    # Use a dictionary to count occurrences of each classification\n",
    "    count_dict = {}\n",
    "    for classification in responses:\n",
    "        count_dict[classification] = count_dict.get(classification, 0) + 1\n",
    "\n",
    "    # Return the classification with the maximum count\n",
    "    return max(count_dict, key=count_dict.get)\n",
    "\n",
    "print(most_frequent_classification(responses))"
   ]
  }
 ],
 "metadata": {
  "kernelspec": {
   "display_name": "Python 3",
   "language": "python",
   "name": "python3"
  },
  "language_info": {
   "codemirror_mode": {
    "name": "ipython",
    "version": 3
   },
   "file_extension": ".py",
   "mimetype": "text/x-python",
   "name": "python",
   "nbconvert_exporter": "python",
   "pygments_lexer": "ipython3",
   "version": "3.12.4"
  }
 },
 "nbformat": 4,
 "nbformat_minor": 2
}
